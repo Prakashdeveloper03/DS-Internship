{
 "cells": [
  {
   "cell_type": "markdown",
   "id": "collective-cooling",
   "metadata": {},
   "source": [
    "## Task 1"
   ]
  },
  {
   "cell_type": "markdown",
   "id": "lovely-standing",
   "metadata": {},
   "source": [
    "### 1. We are having 3 list like this\n",
    "\n",
    "Colors = [“Yellow”,”Green”,”White”,”Black”]\n",
    "\n",
    "Fruits=[“Apple”,”Papaya”,”Mango”,”Orange”]\n",
    "\n",
    "Animals=[“Tiger”,”Lion”,”Deer”,”Zebra”]\n",
    "\n",
    "  **i. Write a program that asks user to enter a Color/Fruit/Animal name and it should tell which category belongs to , like its is a fruit or color or Animal**"
   ]
  },
  {
   "cell_type": "code",
   "execution_count": 1,
   "id": "sapphire-assurance",
   "metadata": {},
   "outputs": [
    {
     "name": "stdin",
     "output_type": "stream",
     "text": [
      "Enter the Name :  Tiger\n"
     ]
    },
    {
     "name": "stdout",
     "output_type": "stream",
     "text": [
      "Category : Animals\n"
     ]
    }
   ],
   "source": [
    "Colors = [\"Yellow\", \"Green\", \"White\", \"Black\"]\n",
    "Fruits = [\"Apple\", \"Papaya\", \"Mango\", \"Orange\"]\n",
    "Animals = [\"Tiger\", \"Lion\", \"Deer\", \"Zebra\"]\n",
    "\n",
    "name = input(\"Enter the Name : \").capitalize()\n",
    "\n",
    "if name in Colors:\n",
    "    category = \"Colors\"\n",
    "elif name in Fruits:\n",
    "    category = \"Fruits\"\n",
    "elif name in Animals:\n",
    "    category = \"Animals\"\n",
    "else:\n",
    "    category = \"Sorry! not in any category\"\n",
    "print(f\"Category : {category}\")"
   ]
  },
  {
   "cell_type": "markdown",
   "id": "private-arbitration",
   "metadata": {},
   "source": [
    "**ii. Write a program that asks user to enter two cities and it tells you if they both are in same country or not. For example if I enter yellow and Black, it will print \"Both are colors\" but if I enter yellow and Tiger it should print \"They don't belong to same category\"**"
   ]
  },
  {
   "cell_type": "code",
   "execution_count": 2,
   "id": "controlling-portuguese",
   "metadata": {},
   "outputs": [
    {
     "name": "stdin",
     "output_type": "stream",
     "text": [
      "Enter the Name 1 :  Yellow\n",
      "Enter the Name 2 :  white\n"
     ]
    },
    {
     "name": "stdout",
     "output_type": "stream",
     "text": [
      "Category : Both are Colors\n"
     ]
    }
   ],
   "source": [
    "n1 = input(\"Enter the Name 1 : \").capitalize()\n",
    "n2 = input(\"Enter the Name 2 : \").capitalize()\n",
    "\n",
    "if n1 in Colors and n2 in Colors:\n",
    "    category = \"Both are Colors\"\n",
    "elif n1 in Fruits and n2 in Fruits:\n",
    "    category = \"Both are Fruits\"\n",
    "elif n1 in Animals and n2 in Animals:\n",
    "    category = \"Both are Animals\"\n",
    "else:\n",
    "    category = \"They don't belong to same category\"\n",
    "print(f\"Category : {category}\")"
   ]
  },
  {
   "cell_type": "markdown",
   "id": "peaceful-establishment",
   "metadata": {},
   "source": [
    "### 2.  Write a python program that can tell you if your grade score good or not . Good Score range is 40 to 60.\n",
    "\n",
    "  i. Ask user to enter his score.\n",
    "\n",
    "  ii. If it is below 40 to 60 range then print that score is low\n",
    "\n",
    "  iii. If it is above 60 then print that it is good otherwise print that it is normal"
   ]
  },
  {
   "cell_type": "code",
   "execution_count": 3,
   "id": "independent-induction",
   "metadata": {},
   "outputs": [
    {
     "name": "stdin",
     "output_type": "stream",
     "text": [
      "Enter your score:  85\n"
     ]
    },
    {
     "name": "stdout",
     "output_type": "stream",
     "text": [
      "85 is good mark\n"
     ]
    }
   ],
   "source": [
    "score = int(input(\"Enter your score: \"))\n",
    "if score > 60:\n",
    "    print(f\"{score} is good mark\")\n",
    "elif score < 40:\n",
    "    print(f\"{score} is low mark\")\n",
    "else:\n",
    "    print(f\"{score} is normal mark\")"
   ]
  },
  {
   "cell_type": "markdown",
   "id": "forced-warner",
   "metadata": {},
   "source": [
    "### 3.  After appearing in exam 10 times you got this result,\n",
    "\n",
    "result = [\"Pass\",\"Fail\",\"Fail\",\"Pass\",\"Fail\",\"Pass\",\"Pass\",\"Fail\",\"Fail\",\"Fail\"]\n",
    "\n",
    "Using for loop figure out how many times you got Pass"
   ]
  },
  {
   "cell_type": "code",
   "execution_count": 4,
   "id": "ambient-learning",
   "metadata": {},
   "outputs": [
    {
     "name": "stdout",
     "output_type": "stream",
     "text": [
      "You passed 4 times\n"
     ]
    }
   ],
   "source": [
    "result = [\n",
    "    \"Pass\",\n",
    "    \"Fail\",\n",
    "    \"Fail\",\n",
    "    \"Pass\",\n",
    "    \"Fail\",\n",
    "    \"Pass\",\n",
    "    \"Pass\",\n",
    "    \"Fail\",\n",
    "    \"Fail\",\n",
    "    \"Fail\",\n",
    "]\n",
    "counter = 0\n",
    "for string in result:\n",
    "    if string == \"Pass\":\n",
    "        counter += 1\n",
    "print(f\"You passed {counter} times\")"
   ]
  },
  {
   "cell_type": "markdown",
   "id": "structured-boost",
   "metadata": {},
   "source": [
    "### 4.  Write a program that prints following shape"
   ]
  },
  {
   "cell_type": "code",
   "execution_count": 5,
   "id": "spiritual-honduras",
   "metadata": {},
   "outputs": [
    {
     "name": "stdout",
     "output_type": "stream",
     "text": [
      "\n",
      "* \n",
      "* * \n",
      "* * * \n",
      "* * * * \n",
      "* * * * * \n",
      "* * * * \n",
      "* * * \n",
      "* * \n",
      "* \n"
     ]
    }
   ],
   "source": [
    "n = 5\n",
    "for i in range(n):\n",
    "    for j in range(i):\n",
    "        print(\"* \", end=\"\")\n",
    "    print(\"\")\n",
    "\n",
    "for i in range(n, 0, -1):\n",
    "    for j in range(i):\n",
    "        print(\"* \", end=\"\")\n",
    "    print(\"\")"
   ]
  },
  {
   "cell_type": "markdown",
   "id": "critical-reporter",
   "metadata": {},
   "source": [
    "### 5. Lets say you are running a 50 km race. Write a program that,\n",
    "\n",
    "- Upon completing each 10 km asks you \"are you tired?\"\n",
    "- If you reply \"yes\" then it should break and print \"you didn't finish the race\"\n",
    "- If you reply \"no\" then it should continue and ask \"are you tired\" on every km\n",
    "- If you finish all 50 km then it should print congratulations message"
   ]
  },
  {
   "cell_type": "code",
   "execution_count": 6,
   "id": "stuck-marina",
   "metadata": {},
   "outputs": [
    {
     "name": "stdout",
     "output_type": "stream",
     "text": [
      "are you tired?\n"
     ]
    },
    {
     "name": "stdin",
     "output_type": "stream",
     "text": [
      "Enter Yes or No :  40\n"
     ]
    },
    {
     "name": "stdout",
     "output_type": "stream",
     "text": [
      "Invalid Input\n",
      "are you tired?\n"
     ]
    },
    {
     "name": "stdin",
     "output_type": "stream",
     "text": [
      "Enter Yes or No :  no\n"
     ]
    },
    {
     "name": "stdout",
     "output_type": "stream",
     "text": [
      "are you tired?\n"
     ]
    },
    {
     "name": "stdin",
     "output_type": "stream",
     "text": [
      "Enter Yes or No :  yes\n"
     ]
    },
    {
     "name": "stdout",
     "output_type": "stream",
     "text": [
      "you didn't finish the race\n"
     ]
    }
   ],
   "source": [
    "for distance in range(1, 51):\n",
    "    if distance < 50 and distance % 10 == 0:\n",
    "        print(\"are you tired?\")\n",
    "        reply = input(\"Enter Yes or No : \")\n",
    "        if reply.lower() == \"yes\":\n",
    "            print(\"you didn't finish the race\")\n",
    "            break\n",
    "        elif reply.lower() == \"no\":\n",
    "            continue\n",
    "        else:\n",
    "            print(\"Invalid Input\")\n",
    "    if distance == 50:\n",
    "        print(\"congratulations !\")"
   ]
  },
  {
   "cell_type": "markdown",
   "id": "domestic-story",
   "metadata": {},
   "source": [
    "### 6.  Write a Python program to find those numbers which are divisible by 7 and multiple of 5, between 1500 and 2700 (both included)."
   ]
  },
  {
   "cell_type": "code",
   "execution_count": 7,
   "id": "numerical-champion",
   "metadata": {},
   "outputs": [
    {
     "name": "stdout",
     "output_type": "stream",
     "text": [
      "1505 1540 1575 1610 1645 1680 1715 1750 1785 1820 1855 1890 1925 1960 1995 2030 2065 2100 2135 2170 2205 2240 2275 2310 2345 2380 2415 2450 2485 2520 2555 2590 2625 2660 2695 "
     ]
    }
   ],
   "source": [
    "for number in range(1500, 2701):\n",
    "    if number % 7 == 0 and number % 5 == 0:\n",
    "        print(number, end=\" \")"
   ]
  },
  {
   "cell_type": "markdown",
   "id": "worth-wesley",
   "metadata": {},
   "source": [
    "### 7.   Print square of all numbers between 10 to 20 except even numbers"
   ]
  },
  {
   "cell_type": "code",
   "execution_count": 8,
   "id": "alleged-refund",
   "metadata": {},
   "outputs": [
    {
     "name": "stdout",
     "output_type": "stream",
     "text": [
      "11 121\n",
      "13 169\n",
      "15 225\n",
      "17 289\n",
      "19 361\n"
     ]
    }
   ],
   "source": [
    "for number in range(10, 21):\n",
    "    if number % 2 == 1:\n",
    "        print(f\"{number} {number ** 2}\")"
   ]
  },
  {
   "cell_type": "markdown",
   "id": "realistic-battery",
   "metadata": {},
   "source": [
    "### 8.  Your Marks for five Test(test1 to test5) looks like this,\n",
    "\n",
    "marks_list = [65, 75, 2100, 95, 83]\n",
    "\n",
    "**Write a program that asks you to enter marks and program should tell you in which test that expense occurred. If expense is not found then it should print that as well.**"
   ]
  },
  {
   "cell_type": "code",
   "execution_count": 9,
   "id": "injured-refund",
   "metadata": {},
   "outputs": [
    {
     "name": "stdin",
     "output_type": "stream",
     "text": [
      "Enter the Mark :  2100\n"
     ]
    },
    {
     "name": "stdout",
     "output_type": "stream",
     "text": [
      "Test found in index : 3\n"
     ]
    }
   ],
   "source": [
    "marks_list = [65, 75, 2100, 95, 83]\n",
    "given_mark = eval(input(\"Enter the Mark : \"))\n",
    "\n",
    "if given_mark in marks_list:\n",
    "    idx = marks_list.index(given_mark)\n",
    "    print(f\"Test found in index : {idx + 1}\")\n",
    "else:\n",
    "    print(\"Test not found\")"
   ]
  }
 ],
 "metadata": {
  "kernelspec": {
   "display_name": "Python 3 (ipykernel)",
   "language": "python",
   "name": "python3"
  },
  "language_info": {
   "codemirror_mode": {
    "name": "ipython",
    "version": 3
   },
   "file_extension": ".py",
   "mimetype": "text/x-python",
   "name": "python",
   "nbconvert_exporter": "python",
   "pygments_lexer": "ipython3",
   "version": "3.10.0"
  }
 },
 "nbformat": 4,
 "nbformat_minor": 5
}
