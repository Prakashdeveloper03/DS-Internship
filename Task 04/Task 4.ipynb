{
 "cells": [
  {
   "cell_type": "markdown",
   "id": "655f416e",
   "metadata": {},
   "source": [
    "## Task 4"
   ]
  },
  {
   "cell_type": "markdown",
   "id": "fa39425e",
   "metadata": {},
   "source": [
    "### Question on Numpy-"
   ]
  },
  {
   "cell_type": "markdown",
   "id": "44024181",
   "metadata": {},
   "source": [
    "#### 1) Import the numpy package under the name np and Print the numpy version and the configuration "
   ]
  },
  {
   "cell_type": "code",
   "execution_count": 1,
   "id": "fdcc4c0d",
   "metadata": {},
   "outputs": [
    {
     "name": "stdout",
     "output_type": "stream",
     "text": [
      "1.22.3\n",
      "openblas64__info:\n",
      "    library_dirs = ['D:\\\\a\\\\1\\\\s\\\\numpy\\\\build\\\\openblas64__info']\n",
      "    libraries = ['openblas64__info']\n",
      "    language = f77\n",
      "    define_macros = [('HAVE_CBLAS', None), ('BLAS_SYMBOL_SUFFIX', '64_'), ('HAVE_BLAS_ILP64', None)]\n",
      "blas_ilp64_opt_info:\n",
      "    library_dirs = ['D:\\\\a\\\\1\\\\s\\\\numpy\\\\build\\\\openblas64__info']\n",
      "    libraries = ['openblas64__info']\n",
      "    language = f77\n",
      "    define_macros = [('HAVE_CBLAS', None), ('BLAS_SYMBOL_SUFFIX', '64_'), ('HAVE_BLAS_ILP64', None)]\n",
      "openblas64__lapack_info:\n",
      "    library_dirs = ['D:\\\\a\\\\1\\\\s\\\\numpy\\\\build\\\\openblas64__lapack_info']\n",
      "    libraries = ['openblas64__lapack_info']\n",
      "    language = f77\n",
      "    define_macros = [('HAVE_CBLAS', None), ('BLAS_SYMBOL_SUFFIX', '64_'), ('HAVE_BLAS_ILP64', None), ('HAVE_LAPACKE', None)]\n",
      "lapack_ilp64_opt_info:\n",
      "    library_dirs = ['D:\\\\a\\\\1\\\\s\\\\numpy\\\\build\\\\openblas64__lapack_info']\n",
      "    libraries = ['openblas64__lapack_info']\n",
      "    language = f77\n",
      "    define_macros = [('HAVE_CBLAS', None), ('BLAS_SYMBOL_SUFFIX', '64_'), ('HAVE_BLAS_ILP64', None), ('HAVE_LAPACKE', None)]\n",
      "Supported SIMD extensions in this NumPy install:\n",
      "    baseline = SSE,SSE2,SSE3\n",
      "    found = SSSE3,SSE41,POPCNT,SSE42\n",
      "    not found = AVX,F16C,FMA3,AVX2,AVX512F,AVX512CD,AVX512_SKX,AVX512_CLX,AVX512_CNL\n",
      "None\n"
     ]
    }
   ],
   "source": [
    "import numpy as np\n",
    "\n",
    "print(np.__version__)\n",
    "print(np.show_config())"
   ]
  },
  {
   "cell_type": "markdown",
   "id": "9d5ad5c8",
   "metadata": {},
   "source": [
    "#### 2) Create a null vector of size 10"
   ]
  },
  {
   "cell_type": "code",
   "execution_count": 2,
   "id": "f7a56e44",
   "metadata": {},
   "outputs": [
    {
     "data": {
      "text/plain": [
       "array([0., 0., 0., 0., 0., 0., 0., 0., 0., 0.])"
      ]
     },
     "execution_count": 2,
     "metadata": {},
     "output_type": "execute_result"
    }
   ],
   "source": [
    "np.zeros(10)"
   ]
  },
  {
   "cell_type": "markdown",
   "id": "b7797baa",
   "metadata": {},
   "source": [
    "#### 3) Create Simple 1-D array and check type and check data types in array"
   ]
  },
  {
   "cell_type": "code",
   "execution_count": 3,
   "id": "abe503a5",
   "metadata": {},
   "outputs": [
    {
     "data": {
      "text/plain": [
       "array([0, 1, 2, 3, 4, 5, 6])"
      ]
     },
     "execution_count": 3,
     "metadata": {},
     "output_type": "execute_result"
    }
   ],
   "source": [
    "arr1 = np.arange(0, 7)\n",
    "arr1"
   ]
  },
  {
   "cell_type": "code",
   "execution_count": 4,
   "id": "09999bce",
   "metadata": {},
   "outputs": [
    {
     "data": {
      "text/plain": [
       "numpy.ndarray"
      ]
     },
     "execution_count": 4,
     "metadata": {},
     "output_type": "execute_result"
    }
   ],
   "source": [
    "type(arr1)"
   ]
  },
  {
   "cell_type": "code",
   "execution_count": 5,
   "id": "929e395a",
   "metadata": {},
   "outputs": [
    {
     "data": {
      "text/plain": [
       "dtype('int32')"
      ]
     },
     "execution_count": 5,
     "metadata": {},
     "output_type": "execute_result"
    }
   ],
   "source": [
    "arr1.dtype"
   ]
  },
  {
   "cell_type": "markdown",
   "id": "3305cf28",
   "metadata": {},
   "source": [
    "#### 4) How to find number of dimensions, bytes per element and bytes of memory used?"
   ]
  },
  {
   "cell_type": "code",
   "execution_count": 6,
   "id": "dc5cfa07",
   "metadata": {},
   "outputs": [
    {
     "name": "stdout",
     "output_type": "stream",
     "text": [
      "No of Dimension of the array : 1\n",
      "Size of the element in the array : 4\n",
      "Total Size of the array : 28\n"
     ]
    }
   ],
   "source": [
    "print(f\"No of Dimension of the array : {arr1.ndim}\")\n",
    "print(f\"Size of the element in the array : {arr1.itemsize}\")\n",
    "print(f\"Total Size of the array : {arr1.nbytes}\")"
   ]
  },
  {
   "cell_type": "markdown",
   "id": "c6c19ca3",
   "metadata": {},
   "source": [
    "#### 5) Create a null vector of size 10 but the fifth value which is 1"
   ]
  },
  {
   "cell_type": "code",
   "execution_count": 7,
   "id": "fb6efacb",
   "metadata": {},
   "outputs": [
    {
     "name": "stdout",
     "output_type": "stream",
     "text": [
      "[0. 0. 0. 0. 1. 0. 0. 0. 0. 0.]\n"
     ]
    }
   ],
   "source": [
    "null_arr = np.zeros(10)\n",
    "null_arr[4] = 1\n",
    "print(null_arr)"
   ]
  },
  {
   "cell_type": "markdown",
   "id": "444cee57",
   "metadata": {},
   "source": [
    "#### 6) Create a vector with values ranging from 10 to 49"
   ]
  },
  {
   "cell_type": "code",
   "execution_count": 8,
   "id": "b6ec54be",
   "metadata": {},
   "outputs": [
    {
     "data": {
      "text/plain": [
       "array([10, 11, 12, 13, 14, 15, 16, 17, 18, 19, 20, 21, 22, 23, 24, 25, 26,\n",
       "       27, 28, 29, 30, 31, 32, 33, 34, 35, 36, 37, 38, 39, 40, 41, 42, 43,\n",
       "       44, 45, 46, 47, 48, 49])"
      ]
     },
     "execution_count": 8,
     "metadata": {},
     "output_type": "execute_result"
    }
   ],
   "source": [
    "np.arange(10, 50)"
   ]
  },
  {
   "cell_type": "markdown",
   "id": "8b8e8f7a",
   "metadata": {},
   "source": [
    "#### 7) Reverse a vector (first element becomes last)"
   ]
  },
  {
   "cell_type": "code",
   "execution_count": 9,
   "id": "eded4154",
   "metadata": {},
   "outputs": [
    {
     "name": "stdout",
     "output_type": "stream",
     "text": [
      "Before Reversing : [0 1 2 3 4 5 6]\n",
      "After Reversing : [6 5 4 3 2 1 0]\n"
     ]
    }
   ],
   "source": [
    "print(f\"Before Reversing : {arr1}\")\n",
    "print(f\"After Reversing : {arr1[::-1]}\")"
   ]
  },
  {
   "cell_type": "markdown",
   "id": "72158978",
   "metadata": {},
   "source": [
    "#### 8) Create a 3x3 matrix with values ranging from 0 to 8"
   ]
  },
  {
   "cell_type": "code",
   "execution_count": 10,
   "id": "4419f0b9",
   "metadata": {},
   "outputs": [
    {
     "name": "stdout",
     "output_type": "stream",
     "text": [
      "[[0 1 2]\n",
      " [3 4 5]\n",
      " [6 7 8]]\n"
     ]
    }
   ],
   "source": [
    "matrix = np.arange(0, 9).reshape((3, 3))\n",
    "print(matrix)"
   ]
  },
  {
   "cell_type": "markdown",
   "id": "a2eef407",
   "metadata": {},
   "source": [
    "#### 9) Find indices of non-zero elements from [1,2,0,0,4,0]"
   ]
  },
  {
   "cell_type": "code",
   "execution_count": 11,
   "id": "c4e98ee9",
   "metadata": {},
   "outputs": [
    {
     "data": {
      "text/plain": [
       "[1, 2, 0, 0, 4, 0]"
      ]
     },
     "execution_count": 11,
     "metadata": {},
     "output_type": "execute_result"
    }
   ],
   "source": [
    "arr1 = [1, 2, 0, 0, 4, 0]\n",
    "arr1"
   ]
  },
  {
   "cell_type": "code",
   "execution_count": 12,
   "id": "159c08d0",
   "metadata": {},
   "outputs": [
    {
     "data": {
      "text/plain": [
       "(array([0, 1, 4], dtype=int64),)"
      ]
     },
     "execution_count": 12,
     "metadata": {},
     "output_type": "execute_result"
    }
   ],
   "source": [
    "np.nonzero(arr1)"
   ]
  },
  {
   "cell_type": "markdown",
   "id": "a6d8ed29",
   "metadata": {},
   "source": [
    "#### 10) Create a 3x3 identity matrix"
   ]
  },
  {
   "cell_type": "code",
   "execution_count": 13,
   "id": "b8257c45",
   "metadata": {},
   "outputs": [
    {
     "data": {
      "text/plain": [
       "array([[1., 0., 0.],\n",
       "       [0., 1., 0.],\n",
       "       [0., 0., 1.]])"
      ]
     },
     "execution_count": 13,
     "metadata": {},
     "output_type": "execute_result"
    }
   ],
   "source": [
    "np.eye(3, 3)"
   ]
  },
  {
   "cell_type": "code",
   "execution_count": 14,
   "id": "3133e97a",
   "metadata": {},
   "outputs": [
    {
     "data": {
      "text/plain": [
       "array([[1., 0., 0.],\n",
       "       [0., 1., 0.],\n",
       "       [0., 0., 1.]])"
      ]
     },
     "execution_count": 14,
     "metadata": {},
     "output_type": "execute_result"
    }
   ],
   "source": [
    "np.identity(3)"
   ]
  },
  {
   "cell_type": "markdown",
   "id": "e3086b88",
   "metadata": {},
   "source": [
    "#### 11) Create a 3x3x3 array with random values"
   ]
  },
  {
   "cell_type": "code",
   "execution_count": 15,
   "id": "d9af25e2",
   "metadata": {},
   "outputs": [
    {
     "data": {
      "text/plain": [
       "array([[[0.67012519, 0.63696252, 0.64382064],\n",
       "        [0.87186324, 0.32800793, 0.8493937 ],\n",
       "        [0.67781969, 0.48434286, 0.86905244]],\n",
       "\n",
       "       [[0.81152778, 0.14333031, 0.97044849],\n",
       "        [0.16678144, 0.20449546, 0.87621067],\n",
       "        [0.91985981, 0.50956025, 0.91787687]],\n",
       "\n",
       "       [[0.80475098, 0.38479581, 0.39343735],\n",
       "        [0.24412678, 0.4576933 , 0.85234064],\n",
       "        [0.94662241, 0.76984936, 0.20946275]]])"
      ]
     },
     "execution_count": 15,
     "metadata": {},
     "output_type": "execute_result"
    }
   ],
   "source": [
    "np.random.random((3, 3, 3))"
   ]
  },
  {
   "cell_type": "markdown",
   "id": "1a2953b6",
   "metadata": {},
   "source": [
    "#### 12) Create a 10x10 array with random values and find the minimum and maximum values"
   ]
  },
  {
   "cell_type": "code",
   "execution_count": 16,
   "id": "5f5817db",
   "metadata": {},
   "outputs": [
    {
     "name": "stdout",
     "output_type": "stream",
     "text": [
      "Original Array :\n",
      " [[[0.394115   0.86819998 0.55673113]\n",
      "  [0.28219446 0.61968706 0.67227178]\n",
      "  [0.45263554 0.04047115 0.14310621]]\n",
      "\n",
      " [[0.19947071 0.27979007 0.74257107]\n",
      "  [0.82896852 0.81537827 0.0777871 ]\n",
      "  [0.87199545 0.00324801 0.85742635]]\n",
      "\n",
      " [[0.26455635 0.59351003 0.05171798]\n",
      "  [0.91750995 0.97207757 0.33910415]\n",
      "  [0.70009294 0.93749011 0.87365951]]]\n",
      "\n",
      "Minimum value in the array : 0.003248012604922912\n",
      "Maximum value in the array : 0.9720775686926265\n"
     ]
    }
   ],
   "source": [
    "arr1 = np.random.random((3, 3, 3))\n",
    "print(f\"Original Array :\\n {arr1}\")\n",
    "print(f\"\\nMinimum value in the array : {np.min(arr1)}\")\n",
    "print(f\"Maximum value in the array : {np.max(arr1)}\")"
   ]
  },
  {
   "cell_type": "markdown",
   "id": "ac54b318",
   "metadata": {},
   "source": [
    "#### 13) Create a random vector of size 30 and find the mean value"
   ]
  },
  {
   "cell_type": "code",
   "execution_count": 17,
   "id": "83f68363",
   "metadata": {},
   "outputs": [
    {
     "name": "stdout",
     "output_type": "stream",
     "text": [
      "Original Array :\n",
      " [[[0.394115   0.86819998 0.55673113]\n",
      "  [0.28219446 0.61968706 0.67227178]\n",
      "  [0.45263554 0.04047115 0.14310621]]\n",
      "\n",
      " [[0.19947071 0.27979007 0.74257107]\n",
      "  [0.82896852 0.81537827 0.0777871 ]\n",
      "  [0.87199545 0.00324801 0.85742635]]\n",
      "\n",
      " [[0.26455635 0.59351003 0.05171798]\n",
      "  [0.91750995 0.97207757 0.33910415]\n",
      "  [0.70009294 0.93749011 0.87365951]]]\n",
      "\n",
      "Mean value of the array : 0.5316950530983033\n"
     ]
    }
   ],
   "source": [
    "print(f\"Original Array :\\n {arr1}\")\n",
    "print(f\"\\nMean value of the array : {np.mean(arr1)}\")"
   ]
  },
  {
   "cell_type": "markdown",
   "id": "b9ff3627",
   "metadata": {},
   "source": [
    "#### 14) Create a 2d array with 1 on the border and 0 inside"
   ]
  },
  {
   "cell_type": "code",
   "execution_count": 18,
   "id": "041a4455",
   "metadata": {},
   "outputs": [
    {
     "data": {
      "text/plain": [
       "array([[1., 1., 1., 1., 1.],\n",
       "       [1., 0., 0., 0., 1.],\n",
       "       [1., 0., 0., 0., 1.],\n",
       "       [1., 0., 0., 0., 1.],\n",
       "       [1., 1., 1., 1., 1.]])"
      ]
     },
     "execution_count": 18,
     "metadata": {},
     "output_type": "execute_result"
    }
   ],
   "source": [
    "arr1 = np.ones((5, 5))\n",
    "arr1[1:4, 1:4] = 0\n",
    "arr1"
   ]
  },
  {
   "cell_type": "markdown",
   "id": "4e09b3c5",
   "metadata": {},
   "source": [
    "#### 15 ) How to add a border (filled with 0's) around an existing array? "
   ]
  },
  {
   "cell_type": "code",
   "execution_count": 19,
   "id": "e6dc1a25",
   "metadata": {},
   "outputs": [
    {
     "data": {
      "text/plain": [
       "array([[0., 0., 0., 0., 0.],\n",
       "       [0., 1., 1., 1., 0.],\n",
       "       [0., 1., 1., 1., 0.],\n",
       "       [0., 1., 1., 1., 0.],\n",
       "       [0., 0., 0., 0., 0.]])"
      ]
     },
     "execution_count": 19,
     "metadata": {},
     "output_type": "execute_result"
    }
   ],
   "source": [
    "arr1 = np.ones((5, 5))\n",
    "arr1[:1, :] = 0\n",
    "arr1[:, :1] = 0\n",
    "arr1[4:, :] = 0\n",
    "arr1[:, 4:] = 0\n",
    "arr1"
   ]
  },
  {
   "cell_type": "markdown",
   "id": "a6b8a96d",
   "metadata": {},
   "source": [
    "#### 16) How to Accessing/Changing specific elements, rows, columns, etc in Numpy array?\n",
    "\n",
    "***Example -***\n",
    "\n",
    "`[[ 1 2 3 4 5 6 7]` `[ 8 9 10 11 12 13 14]]`\n",
    "\n",
    "***Get 13, get first row only, get 3rd column only, get [2, 4, 6], replace 13 by 20***"
   ]
  },
  {
   "cell_type": "code",
   "execution_count": 20,
   "id": "00d11efd",
   "metadata": {},
   "outputs": [
    {
     "data": {
      "text/plain": [
       "array([[ 1,  2,  3,  4,  5,  6,  7],\n",
       "       [ 8,  9, 10, 11, 12, 13, 14]])"
      ]
     },
     "execution_count": 20,
     "metadata": {},
     "output_type": "execute_result"
    }
   ],
   "source": [
    "arr1 = np.arange(1, 15).reshape(2, 7)\n",
    "arr1"
   ]
  },
  {
   "cell_type": "code",
   "execution_count": 21,
   "id": "7cb9e471",
   "metadata": {},
   "outputs": [
    {
     "data": {
      "text/plain": [
       "13"
      ]
     },
     "execution_count": 21,
     "metadata": {},
     "output_type": "execute_result"
    }
   ],
   "source": [
    "# get 13\n",
    "arr1[1, -2]"
   ]
  },
  {
   "cell_type": "code",
   "execution_count": 22,
   "id": "608cd45f",
   "metadata": {},
   "outputs": [
    {
     "data": {
      "text/plain": [
       "array([1, 2, 3, 4, 5, 6, 7])"
      ]
     },
     "execution_count": 22,
     "metadata": {},
     "output_type": "execute_result"
    }
   ],
   "source": [
    "# get the first row only\n",
    "arr1[0, :]"
   ]
  },
  {
   "cell_type": "code",
   "execution_count": 23,
   "id": "65b2439f",
   "metadata": {},
   "outputs": [
    {
     "data": {
      "text/plain": [
       "array([ 3, 10])"
      ]
     },
     "execution_count": 23,
     "metadata": {},
     "output_type": "execute_result"
    }
   ],
   "source": [
    "# get the 3rd column only\n",
    "arr1[:, 2]"
   ]
  },
  {
   "cell_type": "code",
   "execution_count": 24,
   "id": "b2bab755",
   "metadata": {},
   "outputs": [
    {
     "data": {
      "text/plain": [
       "array([2, 4, 6])"
      ]
     },
     "execution_count": 24,
     "metadata": {},
     "output_type": "execute_result"
    }
   ],
   "source": [
    "# get [2, 4, 6],\n",
    "arr1[0, 1::2]"
   ]
  },
  {
   "cell_type": "code",
   "execution_count": 25,
   "id": "3b68487c",
   "metadata": {},
   "outputs": [
    {
     "name": "stdout",
     "output_type": "stream",
     "text": [
      "Before replacing :\n",
      " [[ 1  2  3  4  5  6  7]\n",
      " [ 8  9 10 11 12 13 14]]\n",
      "\n",
      "After replacing :\n",
      " [[ 1  2  3  4  5  6  7]\n",
      " [ 8  9 10 11 12 20 14]]\n"
     ]
    }
   ],
   "source": [
    "# replace 13 by 20\n",
    "print(f\"Before replacing :\\n {arr1}\")\n",
    "arr1[1, -2] = 20\n",
    "print(f\"\\nAfter replacing :\\n {arr1}\")"
   ]
  },
  {
   "cell_type": "markdown",
   "id": "45b859fa",
   "metadata": {},
   "source": [
    "#### 17) How to Convert a 1D array to a 2D array with 2 rows"
   ]
  },
  {
   "cell_type": "code",
   "execution_count": 26,
   "id": "f1e7c021",
   "metadata": {},
   "outputs": [
    {
     "data": {
      "text/plain": [
       "array([0, 1, 2, 3, 4, 5, 6, 7, 8])"
      ]
     },
     "execution_count": 26,
     "metadata": {},
     "output_type": "execute_result"
    }
   ],
   "source": [
    "arr1 = np.arange(0, 9)\n",
    "arr1"
   ]
  },
  {
   "cell_type": "code",
   "execution_count": 27,
   "id": "a62484c2",
   "metadata": {},
   "outputs": [
    {
     "name": "stdout",
     "output_type": "stream",
     "text": [
      "No of Dimension of the array : 1\n"
     ]
    }
   ],
   "source": [
    "print(f\"No of Dimension of the array : {arr1.ndim}\")"
   ]
  },
  {
   "cell_type": "code",
   "execution_count": 28,
   "id": "87b12e50",
   "metadata": {},
   "outputs": [
    {
     "data": {
      "text/plain": [
       "array([[0, 1, 2],\n",
       "       [3, 4, 5],\n",
       "       [6, 7, 8]])"
      ]
     },
     "execution_count": 28,
     "metadata": {},
     "output_type": "execute_result"
    }
   ],
   "source": [
    "arr1 = arr1.reshape((3, 3))\n",
    "arr1"
   ]
  },
  {
   "cell_type": "code",
   "execution_count": 29,
   "id": "b6efe914",
   "metadata": {},
   "outputs": [
    {
     "name": "stdout",
     "output_type": "stream",
     "text": [
      "No of Dimension of the array : 2\n"
     ]
    }
   ],
   "source": [
    "print(f\"No of Dimension of the array : {arr1.ndim}\")"
   ]
  },
  {
   "cell_type": "markdown",
   "id": "dfd9575f",
   "metadata": {},
   "source": [
    "#### 18) Create the following pattern without hardcoding. Use only numpy functions and the below input array a.\n",
    "\n",
    "***Input:***\n",
    "\n",
    "a = `np.array([1,2,3])`\n",
    "\n",
    "***Desired Output:***\n",
    "   \n",
    "   `array([1, 1, 1, 2, 2, 2, 3, 3, 3, 1, 2, 3, 1, 2, 3, 1, 2, 3])`"
   ]
  },
  {
   "cell_type": "code",
   "execution_count": 30,
   "id": "d3726280",
   "metadata": {},
   "outputs": [
    {
     "name": "stdout",
     "output_type": "stream",
     "text": [
      "[1 2 3]\n"
     ]
    }
   ],
   "source": [
    "a = np.array([1, 2, 3])\n",
    "print(a)"
   ]
  },
  {
   "cell_type": "code",
   "execution_count": 31,
   "id": "e2d52c60",
   "metadata": {},
   "outputs": [
    {
     "name": "stdout",
     "output_type": "stream",
     "text": [
      "[1 1 1 2 2 2 3 3 3 1 2 3 1 2 3 1 2 3]\n"
     ]
    }
   ],
   "source": [
    "a = np.append(np.repeat(a, 3), np.tile(a, 3))\n",
    "print(a)"
   ]
  },
  {
   "cell_type": "markdown",
   "id": "18cc722c",
   "metadata": {},
   "source": [
    "#### 19) Write a program to show how Numpy taking less memory compared to Python List?"
   ]
  },
  {
   "cell_type": "code",
   "execution_count": 32,
   "id": "6d570116",
   "metadata": {},
   "outputs": [
    {
     "name": "stdout",
     "output_type": "stream",
     "text": [
      "Size of each element of list in bytes:  48\n",
      "Size of the whole list in bytes:  48000\n",
      "\n",
      "Size of each element of the Numpy array in bytes:  4\n",
      "Size of the whole Numpy array in bytes:  4000\n"
     ]
    }
   ],
   "source": [
    "import sys\n",
    "\n",
    "list1 = range(1000)\n",
    "print(\"Size of each element of list in bytes: \", sys.getsizeof(list1))\n",
    "print(\"Size of the whole list in bytes: \", sys.getsizeof(list1) * len(list1))\n",
    "\n",
    "# declaring a Numpy array of 1000 elements\n",
    "array = np.arange(1000)\n",
    "print(\"\\nSize of each element of the Numpy array in bytes: \", array.itemsize)\n",
    "print(\"Size of the whole Numpy array in bytes: \", array.size * array.itemsize)"
   ]
  },
  {
   "cell_type": "markdown",
   "id": "ab59e434",
   "metadata": {},
   "source": [
    "#### 20) Write a program to show how Numpy taking less time compared to Python List?"
   ]
  },
  {
   "cell_type": "code",
   "execution_count": 33,
   "id": "95f99ee7",
   "metadata": {},
   "outputs": [
    {
     "name": "stdout",
     "output_type": "stream",
     "text": [
      "Time taken by Lists to perform multiplication: 0.5840020179748535 s\n",
      "\n",
      "Time taken by NumPy Arrays to perform multiplication: 0.0050013065338134766 s\n"
     ]
    }
   ],
   "source": [
    "import time\n",
    "\n",
    "size = 1000000\n",
    "list1 = range(size)\n",
    "list2 = range(size)\n",
    "array1 = np.arange(size)\n",
    "array2 = np.arange(size)\n",
    "\n",
    "# list\n",
    "initialTime = time.time()\n",
    "resultantList = [(a * b) for a, b in zip(list1, list2)]\n",
    "print(f\"Time taken by Lists to perform multiplication: {(time.time() - initialTime)} s\")\n",
    "\n",
    "# numpy array\n",
    "initialTime = time.time()\n",
    "resultantArray = array1 * array2\n",
    "print(\n",
    "    f\"\\nTime taken by NumPy Arrays to perform multiplication: {(time.time() - initialTime)} s\"\n",
    ")"
   ]
  }
 ],
 "metadata": {
  "kernelspec": {
   "display_name": "Python 3 (ipykernel)",
   "language": "python",
   "name": "python3"
  },
  "language_info": {
   "codemirror_mode": {
    "name": "ipython",
    "version": 3
   },
   "file_extension": ".py",
   "mimetype": "text/x-python",
   "name": "python",
   "nbconvert_exporter": "python",
   "pygments_lexer": "ipython3",
   "version": "3.10.0"
  }
 },
 "nbformat": 4,
 "nbformat_minor": 5
}
