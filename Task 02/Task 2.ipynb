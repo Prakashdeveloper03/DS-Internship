{
 "cells": [
  {
   "cell_type": "markdown",
   "id": "b8812e36",
   "metadata": {},
   "source": [
    "# Task 2"
   ]
  },
  {
   "cell_type": "markdown",
   "id": "e92594fe",
   "metadata": {},
   "source": [
    "### 1) Is a list mutable? \n",
    "**Ans: Yes,list is mutable**"
   ]
  },
  {
   "cell_type": "code",
   "execution_count": 1,
   "id": "b0893b51",
   "metadata": {},
   "outputs": [
    {
     "name": "stdout",
     "output_type": "stream",
     "text": [
      "Before Changing the Element : [10, 20, 'Hello', 35.2]\n",
      "After Changing the Element : ['test', 20, 'Hello', 35.2]\n"
     ]
    }
   ],
   "source": [
    "# Creating lists\n",
    "list_1 = [10, 20, \"Hello\", 35.2]\n",
    "list_2 = [10, 12, 15, 17, 18]\n",
    "\n",
    "# list are mutable\n",
    "print(f\"Before Changing the Element : {list_1}\")\n",
    "list_1[0] = \"test\"\n",
    "print(f\"After Changing the Element : {list_1}\")"
   ]
  },
  {
   "cell_type": "markdown",
   "id": "4d9a090f",
   "metadata": {},
   "source": [
    "### 2) Does a list need to be homogeneous?\n",
    "**Ans : Lists can be either homogeneous or heterogeneous in Python.**"
   ]
  },
  {
   "cell_type": "markdown",
   "id": "c0416cda",
   "metadata": {},
   "source": [
    "### 3) What is the difference between a list and a tuple.\n",
    "**Ans :** \n",
    "\n",
    "| List                      |Tuple       \n",
    "|------------------------------|-------------------------|\n",
    "|The list is better for performing operations, such as insertion and deletion. |Tuple data type is appropriate for accessing the elements.|\n",
    "|Implication of iterations is Time-consuming | The implication of iterations is comparatively Faster|\n",
    "|Lists are mutable             |Tuples are immutable       |\n",
    "|Lists consume more memory     |Tuples consume less memory|"
   ]
  },
  {
   "cell_type": "markdown",
   "id": "c33a6bc0",
   "metadata": {},
   "source": [
    "### 4) How to find the number of elements in the list?\n",
    "**Ans : The most straightforward way to get the number of elements in a list is to use the Python built-in function `len()`.**"
   ]
  },
  {
   "cell_type": "code",
   "execution_count": 2,
   "id": "dd2c13ad",
   "metadata": {},
   "outputs": [
    {
     "name": "stdout",
     "output_type": "stream",
     "text": [
      "List 1 : ['test', 20, 'Hello', 35.2]\n",
      "Length of the List 1 : 4\n"
     ]
    }
   ],
   "source": [
    "print(f\"List 1 : {list_1}\")\n",
    "print(f\"Length of the List 1 : {len(list_1)}\")"
   ]
  },
  {
   "cell_type": "markdown",
   "id": "2a1807f6",
   "metadata": {},
   "source": [
    "### 5) How to check whether the list is empty or not?"
   ]
  },
  {
   "cell_type": "code",
   "execution_count": 3,
   "id": "995224fd",
   "metadata": {},
   "outputs": [
    {
     "name": "stdout",
     "output_type": "stream",
     "text": [
      "The list is empty.\n"
     ]
    }
   ],
   "source": [
    "# Check If List is Empty with If and len() in Python\n",
    "myList = []\n",
    "if len(myList) == 0:\n",
    "    print(\"The list is empty.\")\n",
    "else:\n",
    "    print(\"The list is not empty.\");"
   ]
  },
  {
   "cell_type": "code",
   "execution_count": 4,
   "id": "3823bd00",
   "metadata": {},
   "outputs": [
    {
     "name": "stdout",
     "output_type": "stream",
     "text": [
      "The list is empty.\n"
     ]
    }
   ],
   "source": [
    "# Python Check If List Is Not Empty With If and Boolean Context\n",
    "if not myList:\n",
    "    print(\"The list is empty.\")\n",
    "else:\n",
    "    print(\"The list is not empty.\");"
   ]
  },
  {
   "cell_type": "code",
   "execution_count": 5,
   "id": "c43ac8c3",
   "metadata": {},
   "outputs": [
    {
     "name": "stdout",
     "output_type": "stream",
     "text": [
      "The list is empty.\n"
     ]
    }
   ],
   "source": [
    "# Find Vacant List Using If and bool() in Python\n",
    "myList = []\n",
    "if bool(myList) == False:\n",
    "    print(\"The list is empty.\")\n",
    "else:\n",
    "    print(\"The list is not empty.\");"
   ]
  },
  {
   "cell_type": "markdown",
   "id": "d9592162",
   "metadata": {},
   "source": [
    "### 6) How to find the first and last element of the list?"
   ]
  },
  {
   "cell_type": "code",
   "execution_count": 6,
   "id": "3f3009b8",
   "metadata": {},
   "outputs": [
    {
     "name": "stdout",
     "output_type": "stream",
     "text": [
      "Original list : ['test', 20, 'Hello', 35.2]\n",
      "The first and last element of list are : ['test', 35.2]\n"
     ]
    }
   ],
   "source": [
    "# using list indexing\n",
    "print(f\"Original list : {list_1}\")\n",
    "res = [list_1[0], list_1[-1]]\n",
    "print(f\"The first and last element of list are : {res}\")"
   ]
  },
  {
   "cell_type": "code",
   "execution_count": 7,
   "id": "d53729cc",
   "metadata": {},
   "outputs": [
    {
     "name": "stdout",
     "output_type": "stream",
     "text": [
      "Original list : ['test', 20, 'Hello', 35.2]\n",
      "The first and last element of list are : ['test', 35.2]\n"
     ]
    }
   ],
   "source": [
    "# using list slicing\n",
    "print(f\"Original list : {list_1}\")\n",
    "res = list_1[:: len(list_1) - 1]\n",
    "print(f\"The first and last element of list are : {res}\")"
   ]
  },
  {
   "cell_type": "code",
   "execution_count": 8,
   "id": "17818fa7",
   "metadata": {},
   "outputs": [
    {
     "name": "stdout",
     "output_type": "stream",
     "text": [
      "Original list : ['test', 20, 'Hello', 35.2]\n",
      "The first and last element of list are : ['test', 35.2]\n"
     ]
    }
   ],
   "source": [
    "# using list comprehension\n",
    "print(f\"Original list : {list_1}\")\n",
    "res = res = [list_1[i] for i in (0, -1)]\n",
    "print(f\"The first and last element of list are : {res}\")"
   ]
  },
  {
   "cell_type": "markdown",
   "id": "f5ba63e6",
   "metadata": {},
   "source": [
    "### 7) How to find the largest and lowest value in the list?\n",
    "**Ans : The most straightforward way to find the largest and lowest value in a list is to use the Python built-in functions `min()` and `max()`.**"
   ]
  },
  {
   "cell_type": "code",
   "execution_count": 9,
   "id": "106a0a0d",
   "metadata": {},
   "outputs": [
    {
     "name": "stdout",
     "output_type": "stream",
     "text": [
      "Original list : [10, 12, 15, 17, 18]\n",
      "The Smallest Element in this List is : 10\n",
      "The Largest Element in this List is : 18\n"
     ]
    }
   ],
   "source": [
    "print(f\"Original list : {list_2}\")\n",
    "print(f\"The Smallest Element in this List is : {min(list_2)}\")\n",
    "print(f\"The Largest Element in this List is : {max(list_2)}\")"
   ]
  },
  {
   "cell_type": "markdown",
   "id": "564ed075",
   "metadata": {},
   "source": [
    "### 8) How to access elements of the list?\n",
    "**Ans : To access list elements based on the given index – we simply pass the index starting from 0 to length-1 to access the particular element and we can also pass the negative index to access the list elements in the reverse order ( -1 to access the last element, -2 to access the second last element, and so on...)**"
   ]
  },
  {
   "cell_type": "code",
   "execution_count": 10,
   "id": "96bb142e",
   "metadata": {},
   "outputs": [
    {
     "data": {
      "text/plain": [
       "['test', 20, 'Hello', 35.2]"
      ]
     },
     "execution_count": 10,
     "metadata": {},
     "output_type": "execute_result"
    }
   ],
   "source": [
    "list_1"
   ]
  },
  {
   "cell_type": "code",
   "execution_count": 11,
   "id": "6c649b25",
   "metadata": {},
   "outputs": [
    {
     "data": {
      "text/plain": [
       "20"
      ]
     },
     "execution_count": 11,
     "metadata": {},
     "output_type": "execute_result"
    }
   ],
   "source": [
    "list_1[1]"
   ]
  },
  {
   "cell_type": "code",
   "execution_count": 12,
   "id": "4d21564a",
   "metadata": {},
   "outputs": [
    {
     "data": {
      "text/plain": [
       "'Hello'"
      ]
     },
     "execution_count": 12,
     "metadata": {},
     "output_type": "execute_result"
    }
   ],
   "source": [
    "list_1[-2]"
   ]
  },
  {
   "cell_type": "markdown",
   "id": "ae2773b5",
   "metadata": {},
   "source": [
    "### 9) Remove elements in a list before a specific index\n",
    "**Ans : To remove an item at specified index or position from a List, you can use pop () method of List class with index provided as argument.**"
   ]
  },
  {
   "cell_type": "code",
   "execution_count": 13,
   "id": "086b3e70",
   "metadata": {},
   "outputs": [
    {
     "name": "stdout",
     "output_type": "stream",
     "text": [
      "Before removing element : ['a', 10, 12.5, 'Hello']\n",
      "After removing element : [10, 12.5, 'Hello']\n"
     ]
    }
   ],
   "source": [
    "myList = [\"a\", 10, 12.5, \"Hello\"]\n",
    "print(f\"Before removing element : {myList}\")\n",
    "myList.pop(0)\n",
    "print(f\"After removing element : {myList}\")"
   ]
  },
  {
   "cell_type": "markdown",
   "id": "ad3e523a",
   "metadata": {},
   "source": [
    "### 10) Remove elements in a list between 2 indices"
   ]
  },
  {
   "cell_type": "code",
   "execution_count": 14,
   "id": "2743032e",
   "metadata": {},
   "outputs": [
    {
     "data": {
      "text/plain": [
       "[10, 20, 30, 44, 55, 78]"
      ]
     },
     "execution_count": 14,
     "metadata": {},
     "output_type": "execute_result"
    }
   ],
   "source": [
    "list_1 = [10, 20, 30, 44, 55, 78]\n",
    "list_1"
   ]
  },
  {
   "cell_type": "code",
   "execution_count": 15,
   "id": "1cba0ef4",
   "metadata": {},
   "outputs": [
    {
     "name": "stdout",
     "output_type": "stream",
     "text": [
      "[10, 20, 78]\n"
     ]
    }
   ],
   "source": [
    "del list_1[2:5]\n",
    "print(list_1)"
   ]
  },
  {
   "cell_type": "markdown",
   "id": "9b8fcc1f",
   "metadata": {},
   "source": [
    "### 11) Return every 2nd element in a list between 2 indices"
   ]
  },
  {
   "cell_type": "code",
   "execution_count": 16,
   "id": "faddbb63",
   "metadata": {},
   "outputs": [
    {
     "data": {
      "text/plain": [
       "[10, 20, 85, 78, 41, 15, 12]"
      ]
     },
     "execution_count": 16,
     "metadata": {},
     "output_type": "execute_result"
    }
   ],
   "source": [
    "list_1 = [10, 20, 85, 78, 41, 15, 12]\n",
    "list_1"
   ]
  },
  {
   "cell_type": "code",
   "execution_count": 17,
   "id": "4492137b",
   "metadata": {},
   "outputs": [
    {
     "data": {
      "text/plain": [
       "[20, 78]"
      ]
     },
     "execution_count": 17,
     "metadata": {},
     "output_type": "execute_result"
    }
   ],
   "source": [
    "list_1[1:5:2]"
   ]
  },
  {
   "cell_type": "markdown",
   "id": "448b6a6b",
   "metadata": {},
   "source": [
    "### 12) Get the first element from each nested list in a list"
   ]
  },
  {
   "cell_type": "code",
   "execution_count": 18,
   "id": "194d0efc",
   "metadata": {},
   "outputs": [
    {
     "data": {
      "text/plain": [
       "[[10, 20, 30], [40, 50, 60], [12, 14, 15]]"
      ]
     },
     "execution_count": 18,
     "metadata": {},
     "output_type": "execute_result"
    }
   ],
   "source": [
    "nested_list = [[10, 20, 30], [40, 50, 60], [12, 14, 15]]\n",
    "nested_list"
   ]
  },
  {
   "cell_type": "code",
   "execution_count": 19,
   "id": "113b8706",
   "metadata": {},
   "outputs": [
    {
     "name": "stdout",
     "output_type": "stream",
     "text": [
      "10 40 12 "
     ]
    }
   ],
   "source": [
    "for l in nested_list:\n",
    "    print(l[0], end=\" \")"
   ]
  },
  {
   "cell_type": "markdown",
   "id": "326d081a",
   "metadata": {},
   "source": [
    "### 13) How to modify elements of the list?"
   ]
  },
  {
   "cell_type": "code",
   "execution_count": 20,
   "id": "666f2f8b",
   "metadata": {},
   "outputs": [
    {
     "name": "stdout",
     "output_type": "stream",
     "text": [
      "Before Changing the Element : [10, 12.5, 'Hello']\n",
      "After Changing the Element : [12.32, 12.5, 'Hello']\n"
     ]
    }
   ],
   "source": [
    "print(f\"Before Changing the Element : {myList}\")\n",
    "myList[0] = 12.32\n",
    "print(f\"After Changing the Element : {myList}\")"
   ]
  },
  {
   "cell_type": "markdown",
   "id": "4eecca83",
   "metadata": {},
   "source": [
    "### 14) How to concatenate two lists?"
   ]
  },
  {
   "cell_type": "code",
   "execution_count": 21,
   "id": "93cf2d15",
   "metadata": {},
   "outputs": [
    {
     "name": "stdout",
     "output_type": "stream",
     "text": [
      "List 1 : [10, 20, 85, 78, 41, 15, 12]\n",
      "List 2 : [10, 12, 15, 17, 18]\n",
      "Concatenated list : [10, 20, 85, 78, 41, 15, 12, 10, 12, 15, 17, 18]\n"
     ]
    }
   ],
   "source": [
    "print(f\"List 1 : {list_1}\")\n",
    "print(f\"List 2 : {list_2}\")\n",
    "print(f\"Concatenated list : {list_1 + list_2}\")"
   ]
  },
  {
   "cell_type": "markdown",
   "id": "1ddd0747",
   "metadata": {},
   "source": [
    "### 15) How to add two lists element-wise in python?"
   ]
  },
  {
   "cell_type": "code",
   "execution_count": 22,
   "id": "e1eaf230",
   "metadata": {},
   "outputs": [
    {
     "name": "stdout",
     "output_type": "stream",
     "text": [
      "List 1 : [10, 20, 30, 40, 50]\n",
      "List 2 : [2, 3, 5, 7, 9]\n",
      "Added List : [12, 23, 35, 47, 59]\n"
     ]
    }
   ],
   "source": [
    "from operator import add\n",
    "\n",
    "list_1 = [10, 20, 30, 40, 50]\n",
    "list_2 = [2, 3, 5, 7, 9]\n",
    "final_list = list(map(add, list_1, list_2))\n",
    "print(f\"List 1 : {list_1}\")\n",
    "print(f\"List 2 : {list_2}\")\n",
    "print(f\"Added List : {final_list}\")"
   ]
  },
  {
   "cell_type": "markdown",
   "id": "2e60807d",
   "metadata": {},
   "source": [
    "### 16) Difference between del and clear?"
   ]
  },
  {
   "cell_type": "code",
   "execution_count": 23,
   "id": "5abd79c3",
   "metadata": {},
   "outputs": [],
   "source": [
    "myList = [12.32, 12.5, \"Hello\"]"
   ]
  },
  {
   "cell_type": "code",
   "execution_count": 24,
   "id": "40399c8b",
   "metadata": {},
   "outputs": [
    {
     "name": "stdout",
     "output_type": "stream",
     "text": [
      "Before using clear() : [12.32, 12.5, 'Hello']\n",
      "After using clear() : []\n"
     ]
    }
   ],
   "source": [
    "# Clear function removes all the elements in the list and make it empty\n",
    "print(f\"Before using clear() : {myList}\")\n",
    "myList.clear()\n",
    "print(f\"After using clear() : {myList}\")"
   ]
  },
  {
   "cell_type": "code",
   "execution_count": 25,
   "id": "932bd589",
   "metadata": {},
   "outputs": [],
   "source": [
    "# del operator deletes the List object from the memory\n",
    "del myList"
   ]
  },
  {
   "cell_type": "code",
   "execution_count": 26,
   "id": "8a2b4bd2",
   "metadata": {},
   "outputs": [
    {
     "ename": "NameError",
     "evalue": "name 'myList' is not defined",
     "output_type": "error",
     "traceback": [
      "\u001b[1;31m---------------------------------------------------------------------------\u001b[0m",
      "\u001b[1;31mNameError\u001b[0m                                 Traceback (most recent call last)",
      "\u001b[1;32m~\\AppData\\Local\\Temp\\ipykernel_2500\\1603872073.py\u001b[0m in \u001b[0;36m<cell line: 1>\u001b[1;34m()\u001b[0m\n\u001b[1;32m----> 1\u001b[1;33m \u001b[0mmyList\u001b[0m\u001b[1;33m\u001b[0m\u001b[1;33m\u001b[0m\u001b[0m\n\u001b[0m",
      "\u001b[1;31mNameError\u001b[0m: name 'myList' is not defined"
     ]
    }
   ],
   "source": [
    "myList"
   ]
  },
  {
   "cell_type": "markdown",
   "id": "ad3e587d",
   "metadata": {},
   "source": [
    "### 17 ) Difference between remove and pop?"
   ]
  },
  {
   "cell_type": "code",
   "execution_count": 27,
   "id": "e7d605fd",
   "metadata": {},
   "outputs": [
    {
     "name": "stdout",
     "output_type": "stream",
     "text": [
      "Before removing element : [10, 20, 12, 40, 50, 60, 75]\n",
      "After removing element : [10, 20, 12, 50, 60, 75]\n"
     ]
    }
   ],
   "source": [
    "# remove() - Removes Element from the list\n",
    "list_1 = [10, 20, 12, 40, 50, 60, 75]\n",
    "print(f\"Before removing element : {list_1}\")\n",
    "list_1.remove(40)\n",
    "print(f\"After removing element : {list_1}\")"
   ]
  },
  {
   "cell_type": "code",
   "execution_count": 28,
   "id": "68302b01",
   "metadata": {},
   "outputs": [
    {
     "name": "stdout",
     "output_type": "stream",
     "text": [
      "Before poping element : [10, 20, 12, 50, 60, 75]\n",
      "After poping element : [20, 12, 50, 60, 75]\n"
     ]
    }
   ],
   "source": [
    "# pop() - Removes Element at the given index\n",
    "print(f\"Before poping element : {list_1}\")\n",
    "list_1.pop(0)\n",
    "print(f\"After poping element : {list_1}\")"
   ]
  },
  {
   "cell_type": "markdown",
   "id": "b7ef5ed8",
   "metadata": {},
   "source": [
    "### 18) Difference between append and extend?"
   ]
  },
  {
   "cell_type": "code",
   "execution_count": 29,
   "id": "97e713f5",
   "metadata": {},
   "outputs": [
    {
     "name": "stdout",
     "output_type": "stream",
     "text": [
      "Before appending element : [20, 12, 50, 60, 75]\n",
      "After appending element : [20, 12, 50, 60, 75, 89]\n"
     ]
    }
   ],
   "source": [
    "# Add Single Element to the list\n",
    "print(f\"Before appending element : {list_1}\")\n",
    "list_1.append(89)\n",
    "print(f\"After appending element : {list_1}\")"
   ]
  },
  {
   "cell_type": "code",
   "execution_count": 30,
   "id": "80f391f0",
   "metadata": {},
   "outputs": [
    {
     "name": "stdout",
     "output_type": "stream",
     "text": [
      "Before extending element : [20, 12, 50, 60, 75, 89]\n",
      "After extending element : [20, 12, 50, 60, 75, 89, 13.8, 23.2, 72.3]\n"
     ]
    }
   ],
   "source": [
    "# Add Single Element to the list\n",
    "print(f\"Before extending element : {list_1}\")\n",
    "list_1.extend([13.8, 23.2, 72.3])\n",
    "print(f\"After extending element : {list_1}\")"
   ]
  },
  {
   "cell_type": "markdown",
   "id": "e2d636fb",
   "metadata": {},
   "source": [
    "### 19) Difference between indexing and Slicing?"
   ]
  },
  {
   "cell_type": "code",
   "execution_count": 31,
   "id": "f132b770",
   "metadata": {},
   "outputs": [
    {
     "data": {
      "text/plain": [
       "[20, 12, 50, 60, 75, 89, 13.8, 23.2, 72.3]"
      ]
     },
     "execution_count": 31,
     "metadata": {},
     "output_type": "execute_result"
    }
   ],
   "source": [
    "list_1"
   ]
  },
  {
   "cell_type": "code",
   "execution_count": 32,
   "id": "25c49754",
   "metadata": {},
   "outputs": [
    {
     "data": {
      "text/plain": [
       "20"
      ]
     },
     "execution_count": 32,
     "metadata": {},
     "output_type": "execute_result"
    }
   ],
   "source": [
    "# indexing - accessing single element\n",
    "list_1[0]"
   ]
  },
  {
   "cell_type": "code",
   "execution_count": 33,
   "id": "8370e096",
   "metadata": {},
   "outputs": [
    {
     "data": {
      "text/plain": [
       "72.3"
      ]
     },
     "execution_count": 33,
     "metadata": {},
     "output_type": "execute_result"
    }
   ],
   "source": [
    "list_1[-1]"
   ]
  },
  {
   "cell_type": "code",
   "execution_count": 34,
   "id": "0ef6f229",
   "metadata": {},
   "outputs": [
    {
     "data": {
      "text/plain": [
       "[12, 50, 60, 75, 89]"
      ]
     },
     "execution_count": 34,
     "metadata": {},
     "output_type": "execute_result"
    }
   ],
   "source": [
    "# slicing - accessing range of elements\n",
    "list_1[1:6]"
   ]
  },
  {
   "cell_type": "code",
   "execution_count": 35,
   "id": "bb72411c",
   "metadata": {},
   "outputs": [
    {
     "data": {
      "text/plain": [
       "[20, 12, 50, 60, 75]"
      ]
     },
     "execution_count": 35,
     "metadata": {},
     "output_type": "execute_result"
    }
   ],
   "source": [
    "list_1[:5]"
   ]
  },
  {
   "cell_type": "code",
   "execution_count": 36,
   "id": "21a16a22",
   "metadata": {},
   "outputs": [
    {
     "data": {
      "text/plain": [
       "[89, 13.8, 23.2, 72.3]"
      ]
     },
     "execution_count": 36,
     "metadata": {},
     "output_type": "execute_result"
    }
   ],
   "source": [
    "list_1[5:]"
   ]
  },
  {
   "cell_type": "code",
   "execution_count": 37,
   "id": "2fa028e6",
   "metadata": {},
   "outputs": [
    {
     "data": {
      "text/plain": [
       "[20, 50, 75, 13.8, 72.3]"
      ]
     },
     "execution_count": 37,
     "metadata": {},
     "output_type": "execute_result"
    }
   ],
   "source": [
    "list_1[::2]"
   ]
  },
  {
   "cell_type": "markdown",
   "id": "b985b73e",
   "metadata": {},
   "source": [
    "### 20) Difference between sort and sorted?"
   ]
  },
  {
   "cell_type": "code",
   "execution_count": 38,
   "id": "9add1dd3",
   "metadata": {},
   "outputs": [
    {
     "name": "stdout",
     "output_type": "stream",
     "text": [
      "Before using sorted() : [20, 12, 50, 60, 75, 89, 13.8, 23.2, 72.3]\n",
      "After using sorted() : [20, 12, 50, 60, 75, 89, 13.8, 23.2, 72.3]\n"
     ]
    }
   ],
   "source": [
    "# sorted() doesn't sort inplace\n",
    "print(f\"Before using sorted() : {list_1}\")\n",
    "sorted(list_1)\n",
    "print(f\"After using sorted() : {list_1}\")"
   ]
  },
  {
   "cell_type": "code",
   "execution_count": 39,
   "id": "da173c1e",
   "metadata": {},
   "outputs": [
    {
     "name": "stdout",
     "output_type": "stream",
     "text": [
      "Before using sort() : [20, 12, 50, 60, 75, 89, 13.8, 23.2, 72.3]\n",
      "After using sort() : [12, 13.8, 20, 23.2, 50, 60, 72.3, 75, 89]\n"
     ]
    }
   ],
   "source": [
    "# sort() does sort inplace\n",
    "print(f\"Before using sort() : {list_1}\")\n",
    "list_1.sort()\n",
    "print(f\"After using sort() : {list_1}\")"
   ]
  },
  {
   "cell_type": "markdown",
   "id": "27262b09",
   "metadata": {},
   "source": [
    "### 21) Difference between reverse and reversed?"
   ]
  },
  {
   "cell_type": "code",
   "execution_count": 40,
   "id": "7dc44f35",
   "metadata": {},
   "outputs": [
    {
     "name": "stdout",
     "output_type": "stream",
     "text": [
      "Before using reversed() : [12, 13.8, 20, 23.2, 50, 60, 72.3, 75, 89]\n",
      "After using reversed() : [12, 13.8, 20, 23.2, 50, 60, 72.3, 75, 89]\n"
     ]
    }
   ],
   "source": [
    "# reversed() doesn't sort inplace\n",
    "print(f\"Before using reversed() : {list_1}\")\n",
    "reversed(list_1)\n",
    "print(f\"After using reversed() : {list_1}\")"
   ]
  },
  {
   "cell_type": "code",
   "execution_count": 41,
   "id": "c4c3aaea",
   "metadata": {},
   "outputs": [
    {
     "name": "stdout",
     "output_type": "stream",
     "text": [
      "Before using reverse() : [12, 13.8, 20, 23.2, 50, 60, 72.3, 75, 89]\n",
      "After using reverse() : [89, 75, 72.3, 60, 50, 23.2, 20, 13.8, 12]\n"
     ]
    }
   ],
   "source": [
    "# reverse() does sort inplace\n",
    "print(f\"Before using reverse() : {list_1}\")\n",
    "list_1.reverse()\n",
    "print(f\"After using reverse() : {list_1}\")"
   ]
  },
  {
   "cell_type": "markdown",
   "id": "4517742d",
   "metadata": {},
   "source": [
    "### 22) Difference between copy and deepcopy?"
   ]
  },
  {
   "cell_type": "code",
   "execution_count": 42,
   "id": "581a8790",
   "metadata": {},
   "outputs": [
    {
     "name": "stdout",
     "output_type": "stream",
     "text": [
      "myList:  [1, 2, 3, 4]\n",
      "newList:  [1, 2, 3, 4]\n",
      "Both the lists have same id!\n"
     ]
    }
   ],
   "source": [
    "myList = [1, 2, 3, 4]\n",
    "print(\"myList: \", myList)\n",
    "\n",
    "newList = myList\n",
    "print(\"newList: \", newList)\n",
    "\n",
    "if id(myList) == id(newList):\n",
    "    print(\"Both the lists have same id!\")\n",
    "else:\n",
    "    print(\"Both the lists have different id!\")"
   ]
  },
  {
   "cell_type": "code",
   "execution_count": 43,
   "id": "af8b3e76",
   "metadata": {},
   "outputs": [
    {
     "name": "stdout",
     "output_type": "stream",
     "text": [
      "Modifying content of (newList)\n",
      "myList content after modifying elements:  [1, 'test', 3, 4]\n",
      "newList content after modifying elements:  [1, 'test', 3, 4]\n"
     ]
    }
   ],
   "source": [
    "print(\"Modifying content of (newList)\")\n",
    "newList[1] = \"test\"\n",
    "print(\"myList content after modifying elements: \", myList)\n",
    "print(\"newList content after modifying elements: \", newList)"
   ]
  },
  {
   "cell_type": "code",
   "execution_count": 44,
   "id": "b29f7d27",
   "metadata": {},
   "outputs": [
    {
     "name": "stdout",
     "output_type": "stream",
     "text": [
      "myList:  [1, 2, 3, 4]\n",
      "newList:  [1, 2, 3, 4]\n",
      "Both the lists have different id!\n"
     ]
    }
   ],
   "source": [
    "import copy\n",
    "\n",
    "myList = [1, 2, 3, 4]\n",
    "print(\"myList: \", myList)\n",
    "\n",
    "newList = copy.copy(myList)\n",
    "print(\"newList: \", newList)\n",
    "\n",
    "if id(myList) == id(newList):\n",
    "    print(\"Both the lists have same id!\")\n",
    "else:\n",
    "    print(\"Both the lists have different id!\")"
   ]
  },
  {
   "cell_type": "code",
   "execution_count": 45,
   "id": "a0dc67a1",
   "metadata": {},
   "outputs": [
    {
     "name": "stdout",
     "output_type": "stream",
     "text": [
      "Modifying content of (newList)\n",
      "myList content after modifying elements:  [1, 2, 3, 4]\n",
      "newList content after modifying elements:  [1, 'test', 3, 4]\n"
     ]
    }
   ],
   "source": [
    "print(\"Modifying content of (newList)\")\n",
    "newList[1] = \"test\"\n",
    "print(\"myList content after modifying elements: \", myList)\n",
    "print(\"newList content after modifying elements: \", newList)"
   ]
  },
  {
   "cell_type": "code",
   "execution_count": 46,
   "id": "e2685518",
   "metadata": {},
   "outputs": [
    {
     "name": "stdout",
     "output_type": "stream",
     "text": [
      "myList:  [1, 2, 3, 4]\n",
      "newList:  [1, 2, 3, 4]\n",
      "Both the lists have different id!\n"
     ]
    }
   ],
   "source": [
    "myList = [1, 2, 3, 4]\n",
    "print(\"myList: \", myList)\n",
    "\n",
    "newList = copy.deepcopy(myList)\n",
    "print(\"newList: \", newList)\n",
    "\n",
    "if id(myList) == id(newList):\n",
    "    print(\"Both the lists have same id!\")\n",
    "else:\n",
    "    print(\"Both the lists have different id!\")"
   ]
  },
  {
   "cell_type": "code",
   "execution_count": 47,
   "id": "d1c2b7f1",
   "metadata": {},
   "outputs": [
    {
     "name": "stdout",
     "output_type": "stream",
     "text": [
      "Modifying content of (newList)\n",
      "myList content after modifying elements:  [1, 2, 3, 4]\n",
      "newList content after modifying elements:  [1, 'test', 3, 4]\n"
     ]
    }
   ],
   "source": [
    "print(\"Modifying content of (newList)\")\n",
    "newList[1] = \"test\"\n",
    "print(\"myList content after modifying elements: \", myList)\n",
    "print(\"newList content after modifying elements: \", newList)"
   ]
  },
  {
   "cell_type": "markdown",
   "id": "22a0f8d1",
   "metadata": {},
   "source": [
    "### 23) How to remove duplicate elements in the list?"
   ]
  },
  {
   "cell_type": "code",
   "execution_count": 48,
   "id": "595abd38",
   "metadata": {},
   "outputs": [
    {
     "name": "stdout",
     "output_type": "stream",
     "text": [
      "Original List : [10, 10, 20, 20, 20, 30, 30, 20, 10, 15]\n",
      "Removed the duplicated elements in the list : [10, 20, 30, 15]\n"
     ]
    }
   ],
   "source": [
    "myList = [10, 10, 20, 20, 20, 30, 30, 20, 10, 15]\n",
    "print(f\"Original List : {myList}\")\n",
    "\n",
    "# Convert the List to Set to remove duplicate elements\n",
    "myList = list(set(myList))\n",
    "print(f\"Removed the duplicated elements in the list : {myList}\")"
   ]
  },
  {
   "cell_type": "markdown",
   "id": "42dcfb34",
   "metadata": {},
   "source": [
    "### 24) How to find an index of an element in the python list?"
   ]
  },
  {
   "cell_type": "code",
   "execution_count": 49,
   "id": "f82b7d94",
   "metadata": {},
   "outputs": [
    {
     "data": {
      "text/plain": [
       "[10, 20, 30, 15]"
      ]
     },
     "execution_count": 49,
     "metadata": {},
     "output_type": "execute_result"
    }
   ],
   "source": [
    "# index() - to find an index of an element in the python list\n",
    "myList"
   ]
  },
  {
   "cell_type": "code",
   "execution_count": 50,
   "id": "4cfdae90",
   "metadata": {},
   "outputs": [
    {
     "data": {
      "text/plain": [
       "3"
      ]
     },
     "execution_count": 50,
     "metadata": {},
     "output_type": "execute_result"
    }
   ],
   "source": [
    "myList.index(15)"
   ]
  },
  {
   "cell_type": "markdown",
   "id": "bc974d91",
   "metadata": {},
   "source": [
    "### 25) How to find the occurrences of an element in the python list?"
   ]
  },
  {
   "cell_type": "code",
   "execution_count": 51,
   "id": "b9dfa88b",
   "metadata": {},
   "outputs": [
    {
     "name": "stdout",
     "output_type": "stream",
     "text": [
      "Original List : [10, 10, 20, 20, 20, 30, 30, 20, 10, 15]\n",
      "No occurrences of 10 in List : 3\n"
     ]
    }
   ],
   "source": [
    "# count() - find the occurrences of an element in the python list\n",
    "myList = [10, 10, 20, 20, 20, 30, 30, 20, 10, 15]\n",
    "print(f\"Original List : {myList}\")\n",
    "print(f\"No occurrences of 10 in List : {myList.count(10)}\")"
   ]
  },
  {
   "cell_type": "markdown",
   "id": "a4cec42d",
   "metadata": {},
   "source": [
    "### 26) How to insert an item at a given position?"
   ]
  },
  {
   "cell_type": "code",
   "execution_count": 52,
   "id": "79e4f51d",
   "metadata": {},
   "outputs": [
    {
     "name": "stdout",
     "output_type": "stream",
     "text": [
      "Original List : [10, 85, 90]\n",
      "After inserted element in the list : [10, 95, 85, 90]\n"
     ]
    }
   ],
   "source": [
    "# insert() - to insert an item at a given position\n",
    "myList = [10, 85, 90]\n",
    "print(f\"Original List : {myList}\")\n",
    "myList.insert(1, 95)\n",
    "print(f\"After inserted element in the list : {myList}\")"
   ]
  },
  {
   "cell_type": "markdown",
   "id": "f1a07da7",
   "metadata": {},
   "source": [
    "### 27) How to check if an item is in the list?"
   ]
  },
  {
   "cell_type": "code",
   "execution_count": 53,
   "id": "ec1f7080",
   "metadata": {},
   "outputs": [
    {
     "data": {
      "text/plain": [
       "[10, 95, 85, 90]"
      ]
     },
     "execution_count": 53,
     "metadata": {},
     "output_type": "execute_result"
    }
   ],
   "source": [
    "# To check if an item is in the list, wec can use membership operators in and not in\n",
    "myList"
   ]
  },
  {
   "cell_type": "code",
   "execution_count": 54,
   "id": "384af07c",
   "metadata": {},
   "outputs": [
    {
     "data": {
      "text/plain": [
       "True"
      ]
     },
     "execution_count": 54,
     "metadata": {},
     "output_type": "execute_result"
    }
   ],
   "source": [
    "10 in myList"
   ]
  },
  {
   "cell_type": "code",
   "execution_count": 55,
   "id": "3d189010",
   "metadata": {},
   "outputs": [
    {
     "data": {
      "text/plain": [
       "False"
      ]
     },
     "execution_count": 55,
     "metadata": {},
     "output_type": "execute_result"
    }
   ],
   "source": [
    "20 in myList"
   ]
  },
  {
   "cell_type": "markdown",
   "id": "07181c95",
   "metadata": {},
   "source": [
    "### 28) How to flatten a list in python?"
   ]
  },
  {
   "cell_type": "code",
   "execution_count": 56,
   "id": "c1f5d177",
   "metadata": {},
   "outputs": [
    {
     "name": "stdout",
     "output_type": "stream",
     "text": [
      "Original List : [[10, 20, 30], [40, 50, 60], [12, 14, 15]]\n",
      "After Flatten : [10, 20, 30, 40, 50, 60, 12, 14, 15]\n"
     ]
    }
   ],
   "source": [
    "print(f\"Original List : {nested_list}\")\n",
    "flatten_list = [item for s in nested_list for item in s]\n",
    "print(f\"After Flatten : {flatten_list}\")"
   ]
  },
  {
   "cell_type": "markdown",
   "id": "9d6380ab",
   "metadata": {},
   "source": [
    "### 29) How to convert python list to other data structures like set, tuple, dictionary?"
   ]
  },
  {
   "cell_type": "code",
   "execution_count": 57,
   "id": "87aede42",
   "metadata": {},
   "outputs": [
    {
     "data": {
      "text/plain": [
       "set"
      ]
     },
     "execution_count": 57,
     "metadata": {},
     "output_type": "execute_result"
    }
   ],
   "source": [
    "# set() - to convert to python set\n",
    "type(set(myList))"
   ]
  },
  {
   "cell_type": "code",
   "execution_count": 58,
   "id": "1d478d43",
   "metadata": {},
   "outputs": [
    {
     "data": {
      "text/plain": [
       "tuple"
      ]
     },
     "execution_count": 58,
     "metadata": {},
     "output_type": "execute_result"
    }
   ],
   "source": [
    "# tuple() - to convert to python tuple\n",
    "type(tuple(myList))"
   ]
  },
  {
   "cell_type": "code",
   "execution_count": 59,
   "id": "38fd3e22",
   "metadata": {},
   "outputs": [
    {
     "data": {
      "text/plain": [
       "dict"
      ]
     },
     "execution_count": 59,
     "metadata": {},
     "output_type": "execute_result"
    }
   ],
   "source": [
    "d = {\"Values\": myList}\n",
    "type(d)"
   ]
  },
  {
   "cell_type": "code",
   "execution_count": 60,
   "id": "2f347583",
   "metadata": {},
   "outputs": [
    {
     "name": "stdout",
     "output_type": "stream",
     "text": [
      "{'a': 1, 'b': 2, 'c': 3}\n",
      "<class 'dict'>\n"
     ]
    }
   ],
   "source": [
    "def Convert(a):\n",
    "    it = iter(a)\n",
    "    res_dct = dict(zip(it, it))\n",
    "    return res_dct\n",
    "\n",
    "\n",
    "lst = [\"a\", 1, \"b\", 2, \"c\", 3]\n",
    "print(Convert(lst))\n",
    "print(type(Convert(lst)))"
   ]
  },
  {
   "cell_type": "markdown",
   "id": "bc562ffa",
   "metadata": {},
   "source": [
    "### 30) How to apply a function to all items in the list?"
   ]
  },
  {
   "cell_type": "code",
   "execution_count": 61,
   "id": "257c1f61",
   "metadata": {},
   "outputs": [],
   "source": [
    "def res(x):\n",
    "    return x**2"
   ]
  },
  {
   "cell_type": "code",
   "execution_count": 62,
   "id": "c2767abe",
   "metadata": {},
   "outputs": [],
   "source": [
    "list_1 = [1, 5, 9, 12, 15]"
   ]
  },
  {
   "cell_type": "code",
   "execution_count": 63,
   "id": "5fba855f",
   "metadata": {},
   "outputs": [
    {
     "name": "stdout",
     "output_type": "stream",
     "text": [
      "[1, 25, 81, 144, 225]\n"
     ]
    }
   ],
   "source": [
    "# using list comprehension\n",
    "output_list = [res(i) for i in list_1]\n",
    "print(output_list)"
   ]
  },
  {
   "cell_type": "code",
   "execution_count": 64,
   "id": "55f13969",
   "metadata": {},
   "outputs": [
    {
     "name": "stdout",
     "output_type": "stream",
     "text": [
      "[1, 25, 81, 144, 225]\n"
     ]
    }
   ],
   "source": [
    "# using map()\n",
    "output_list = list(map(res, list_1))\n",
    "print(output_list)"
   ]
  },
  {
   "cell_type": "markdown",
   "id": "210df14e",
   "metadata": {},
   "source": [
    "### 31) How to filter the elements based on a function in a python list?"
   ]
  },
  {
   "cell_type": "code",
   "execution_count": 65,
   "id": "af4f37a0",
   "metadata": {},
   "outputs": [
    {
     "data": {
      "text/plain": [
       "[1, 5, 9, 12, 15]"
      ]
     },
     "execution_count": 65,
     "metadata": {},
     "output_type": "execute_result"
    }
   ],
   "source": [
    "list_1"
   ]
  },
  {
   "cell_type": "code",
   "execution_count": 66,
   "id": "68767c27",
   "metadata": {},
   "outputs": [
    {
     "name": "stdout",
     "output_type": "stream",
     "text": [
      "[9, 12, 15]\n"
     ]
    }
   ],
   "source": [
    "# using filter() and user defined lambda function\n",
    "filtered = filter(lambda num: num > 8, list_1)\n",
    "print(list(filtered))"
   ]
  },
  {
   "cell_type": "markdown",
   "id": "8cfbc81a",
   "metadata": {},
   "source": [
    "### 32) How python lists are stored in memory?\n",
    "**Ans : The list object consists of two internal parts; one object header, and one separately allocated array of object references.**"
   ]
  }
 ],
 "metadata": {
  "kernelspec": {
   "display_name": "Python 3 (ipykernel)",
   "language": "python",
   "name": "python3"
  },
  "language_info": {
   "codemirror_mode": {
    "name": "ipython",
    "version": 3
   },
   "file_extension": ".py",
   "mimetype": "text/x-python",
   "name": "python",
   "nbconvert_exporter": "python",
   "pygments_lexer": "ipython3",
   "version": "3.10.0"
  }
 },
 "nbformat": 4,
 "nbformat_minor": 5
}
