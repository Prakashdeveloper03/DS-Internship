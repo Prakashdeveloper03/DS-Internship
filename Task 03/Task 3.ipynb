{
 "cells": [
  {
   "cell_type": "markdown",
   "id": "308fd00b",
   "metadata": {},
   "source": [
    "### Task 3"
   ]
  },
  {
   "cell_type": "markdown",
   "id": "03ee7f57",
   "metadata": {},
   "source": [
    "### Questions on Dictionary"
   ]
  },
  {
   "cell_type": "markdown",
   "id": "41198bff",
   "metadata": {},
   "source": [
    "### 1) Write a Python Program to sort (ascending and descending) a dictionary by value. "
   ]
  },
  {
   "cell_type": "code",
   "execution_count": 1,
   "id": "5f91c905",
   "metadata": {},
   "outputs": [
    {
     "name": "stdout",
     "output_type": "stream",
     "text": [
      "Ascending Order Is :  [('Priya', 88), ('Divya', 90), ('Arjun', 92), ('Siva', 98), ('Kavitha', 100)]\n",
      "Descending Order Is :  [('Kavitha', 100), ('Siva', 98), ('Arjun', 92), ('Divya', 90), ('Priya', 88)]\n"
     ]
    }
   ],
   "source": [
    "import operator\n",
    "\n",
    "x = {\"Siva\": 98, \"Kavitha\": 100, \"Priya\": 88, \"Arjun\": 92, \"Divya\": 90}\n",
    "asc = sorted(x.items(), key=operator.itemgetter(1))\n",
    "print(\"Ascending Order Is : \", asc)\n",
    "desc = sorted(x.items(), key=operator.itemgetter(1), reverse=True)\n",
    "print(\"Descending Order Is : \", desc)"
   ]
  },
  {
   "cell_type": "markdown",
   "id": "4610328f",
   "metadata": {},
   "source": [
    "### 2)  Write a Python Program to add a key to a dictionary. \n",
    "\n",
    "**Sample Dictionary :** `{0: 10, 1: 20}`\n",
    "\n",
    "**Expected Result :** `{0: 10, 1: 20, 2: 30}`"
   ]
  },
  {
   "cell_type": "code",
   "execution_count": 2,
   "id": "07806737",
   "metadata": {},
   "outputs": [
    {
     "name": "stdout",
     "output_type": "stream",
     "text": [
      "Before Adding New Key value pair : {0: 10, 1: 20}\n",
      "After Adding New Key value pair : {0: 10, 1: 20, 2: 30}\n"
     ]
    }
   ],
   "source": [
    "sample_dict = {0: 10, 1: 20}\n",
    "print(f\"Before Adding New Key value pair : {sample_dict}\")\n",
    "sample_dict.update({2: 30})\n",
    "print(f\"After Adding New Key value pair : {sample_dict}\")"
   ]
  },
  {
   "cell_type": "markdown",
   "id": "bcbd66ee",
   "metadata": {},
   "source": [
    "### 3) Write a  program asks for City name and Temperature and builds a dictionary using that later on you can input city name and it will tell you the Temperature of that City."
   ]
  },
  {
   "cell_type": "code",
   "execution_count": 3,
   "id": "2a2ab9c5",
   "metadata": {},
   "outputs": [
    {
     "name": "stdout",
     "output_type": "stream",
     "text": [
      "\n",
      "1) Add New Record : \n",
      "2) Exit Adding New Records: \n"
     ]
    },
    {
     "name": "stdin",
     "output_type": "stream",
     "text": [
      "Enter the Option :  1\n",
      "Enter the City Name :  Chennai\n",
      "Enter the Temperature of the City :  95\n"
     ]
    },
    {
     "name": "stdout",
     "output_type": "stream",
     "text": [
      "\n",
      "1) Add New Record : \n",
      "2) Exit Adding New Records: \n"
     ]
    },
    {
     "name": "stdin",
     "output_type": "stream",
     "text": [
      "Enter the Option :  1\n",
      "Enter the City Name :  Mumbai\n",
      "Enter the Temperature of the City :  88\n"
     ]
    },
    {
     "name": "stdout",
     "output_type": "stream",
     "text": [
      "\n",
      "1) Add New Record : \n",
      "2) Exit Adding New Records: \n"
     ]
    },
    {
     "name": "stdin",
     "output_type": "stream",
     "text": [
      "Enter the Option :  1\n",
      "Enter the City Name :  Bangalore\n",
      "Enter the Temperature of the City :  79\n"
     ]
    },
    {
     "name": "stdout",
     "output_type": "stream",
     "text": [
      "\n",
      "1) Add New Record : \n",
      "2) Exit Adding New Records: \n"
     ]
    },
    {
     "name": "stdin",
     "output_type": "stream",
     "text": [
      "Enter the Option :  2\n",
      "Enter the City To find the Temperature :  Chennai\n"
     ]
    },
    {
     "name": "stdout",
     "output_type": "stream",
     "text": [
      "The Given City Temperature is 95\n"
     ]
    }
   ],
   "source": [
    "city_list = []\n",
    "temp_list = []\n",
    "out_dict = {}\n",
    "flag = True\n",
    "while flag:\n",
    "    print(\"\\n1) Add New Record : \")\n",
    "    print(\"2) Exit Adding New Records: \")\n",
    "    option = eval(input(\"Enter the Option : \"))\n",
    "\n",
    "    if option == 1:\n",
    "        city = input(\"Enter the City Name : \").capitalize()\n",
    "        temperature = eval(input(\"Enter the Temperature of the City : \"))\n",
    "        city_list.append(city)\n",
    "        temp_list.append(temperature)\n",
    "    elif option == 2:\n",
    "        flag = False\n",
    "    else:\n",
    "        print(\"Invalid Option\")\n",
    "\n",
    "\n",
    "for i in range(0, len(city_list)):\n",
    "    out_dict.update({city_list[i]: temp_list[i]})\n",
    "\n",
    "dis_city = input(\"Enter the City To find the Temperature : \").capitalize()\n",
    "\n",
    "if len(out_dict) == 0:\n",
    "    print(f\"The Dictionary is Empty\")\n",
    "elif dis_city not in out_dict.keys():\n",
    "    print(\"The Given City is not in the Dictionary\")\n",
    "else:\n",
    "    print(f\"The Given City Temperature is {out_dict[dis_city]}\")"
   ]
  },
  {
   "cell_type": "markdown",
   "id": "c05799ed",
   "metadata": {},
   "source": [
    "### 4) Write a Python program to convert list to list of dictionaries.\n",
    "\n",
    "Sample lists: ```[\"Black\", \"Red\", \"Maroon\", \"Yellow\"]```, \n",
    "              ```[\"#000000\", \"#FF0000\", \"#800000\", \"#FFFF00\"]```\n",
    "\n",
    "Expected Output: \n",
    "```\n",
    "[{'color_name': 'Black', 'color_code': '#000000'}, \n",
    " {'color_name': 'Red', 'color_code': '#FF0000'}, \n",
    " {'color_name': 'Maroon', 'color_code': '#800000'}, \n",
    " {'color_name': 'Yellow', 'color_code': '#FFFF00'}]```"
   ]
  },
  {
   "cell_type": "code",
   "execution_count": 4,
   "id": "2de491ef",
   "metadata": {},
   "outputs": [
    {
     "data": {
      "text/plain": [
       "[{'color_name': 'Black', 'color_code': '#000000'},\n",
       " {'color_name': 'Red', 'color_code': '#FF0000'},\n",
       " {'color_name': 'Maroon', 'color_code': '#800000'},\n",
       " {'color_name': 'Yellow', 'color_code': '#FFFF00'}]"
      ]
     },
     "execution_count": 4,
     "metadata": {},
     "output_type": "execute_result"
    }
   ],
   "source": [
    "col_name_list = [\"Black\", \"Red\", \"Maroon\", \"Yellow\"]\n",
    "col_code_list = [\"#000000\", \"#FF0000\", \"#800000\", \"#FFFF00\"]\n",
    "colors = []\n",
    "\n",
    "for i in range(0, len(col_name_list)):\n",
    "    colors.append({\"color_name\": col_name_list[i], \"color_code\": col_code_list[i]})\n",
    "colors"
   ]
  },
  {
   "cell_type": "markdown",
   "id": "b4acd055",
   "metadata": {},
   "source": [
    "### 5) We have following information on Employees and their Salary (Salary is in lakhs),\n",
    "\n",
    "\n",
    "|Employee|Salary|\n",
    "|--------|------|\n",
    "|John\t |14    |\n",
    "|Smith\t |13    |\n",
    "|Alice\t |32    |\n",
    "|Daneil\t |21    |"
   ]
  },
  {
   "cell_type": "markdown",
   "id": "d957ecf5",
   "metadata": {},
   "source": [
    "**1.Using above create a dictionary of Employees and their Salary**"
   ]
  },
  {
   "cell_type": "markdown",
   "id": "f1bcd313",
   "metadata": {},
   "source": [
    "**2.Write a program that asks user for three type of inputs,print:**"
   ]
  },
  {
   "cell_type": "markdown",
   "id": "2a4f8dd5",
   "metadata": {},
   "source": [
    "**a) print: if user enter print then it should print all Employees with their Salary in this format**\n",
    "- John ==>14\n",
    "- Smith ==>13\n",
    "- Alice ==>32\n",
    "- Daneil ==>21"
   ]
  },
  {
   "cell_type": "markdown",
   "id": "323e9252",
   "metadata": {},
   "source": [
    "**b) if user input adds then it should further ask for an Employee name to add. If Employee already exists in our dataset then it should print that it exists and do nothing. If it doesn't then it asks for Salary and add that new Employee/Salary in our dictionary and print it**"
   ]
  },
  {
   "cell_type": "markdown",
   "id": "fb86440c",
   "metadata": {},
   "source": [
    "**c) remove: when user inputs remove it should ask for an Employee to remove. If an Employee exists in our dictionary then remove it and print a new dictionary using format shown above in (a). Else print that Employee doesn't exist!**"
   ]
  },
  {
   "cell_type": "markdown",
   "id": "683634ed",
   "metadata": {},
   "source": [
    "**d) query: on this again ask the user for which Employee he or she wants to query. When a user inputs that Employee it will print the Salary of that Employee.**"
   ]
  },
  {
   "cell_type": "code",
   "execution_count": 5,
   "id": "24be9302",
   "metadata": {},
   "outputs": [],
   "source": [
    "emp_dict = {\"John\": 14, \"Smith\": 13, \"Alice\": 32, \"Daneil\": 21}\n",
    "\n",
    "\n",
    "def print_dict():\n",
    "    print(\"Output Dictionary :\")\n",
    "    for item in emp_dict.items():\n",
    "        print(f\"\\t{item[0]} ==> {item[1]}\")\n",
    "\n",
    "\n",
    "def add_key():\n",
    "    emp_name = input(\"Enter the Employee Name : \").capitalize()\n",
    "    if emp_name in emp_dict.keys():\n",
    "        print(\"The Given Employee already Exists !\")\n",
    "    else:\n",
    "        emp_salary = eval(input(\"The Salary of the Employee : \"))\n",
    "        emp_dict.update({emp_name: emp_salary})\n",
    "\n",
    "\n",
    "def remove_key():\n",
    "    emp_name = input(\"Enter the Employee Name : \").capitalize()\n",
    "    if emp_name in emp_dict.keys():\n",
    "        emp_dict.pop(emp_name)\n",
    "        print(\"The Given Employee is Removed!\")\n",
    "    else:\n",
    "        print(\"The Given Employee Not Exists !\")\n",
    "\n",
    "\n",
    "def query_key():\n",
    "    emp_name = input(\"Enter the Employee Name : \").capitalize()\n",
    "    if emp_name in emp_dict.keys():\n",
    "        print(f\"The Salary of Given Employee : {emp_dict[emp_name]}\")\n",
    "    else:\n",
    "        print(\"The Given Employee Not Exists !\")"
   ]
  },
  {
   "cell_type": "code",
   "execution_count": 6,
   "id": "fe4818fe-26d2-44d1-93ea-cd7f968fbd3d",
   "metadata": {},
   "outputs": [
    {
     "name": "stdout",
     "output_type": "stream",
     "text": [
      "\n",
      "1) Print All the records : \n",
      "2) Add New Record : \n",
      "3) Remove exists Record : \n",
      "4) Query Single Record: \n",
      "5) Exit\n"
     ]
    },
    {
     "name": "stdin",
     "output_type": "stream",
     "text": [
      "Enter the Option :  2\n",
      "Enter the Employee Name :  Siva\n",
      "The Salary of the Employee :  20000\n"
     ]
    },
    {
     "name": "stdout",
     "output_type": "stream",
     "text": [
      "Output Dictionary :\n",
      "\tJohn ==> 14\n",
      "\tSmith ==> 13\n",
      "\tAlice ==> 32\n",
      "\tDaneil ==> 21\n",
      "\tSiva ==> 20000\n",
      "\n",
      "1) Print All the records : \n",
      "2) Add New Record : \n",
      "3) Remove exists Record : \n",
      "4) Query Single Record: \n",
      "5) Exit\n"
     ]
    },
    {
     "name": "stdin",
     "output_type": "stream",
     "text": [
      "Enter the Option :  3\n",
      "Enter the Employee Name :  John\n"
     ]
    },
    {
     "name": "stdout",
     "output_type": "stream",
     "text": [
      "The Given Employee is Removed!\n",
      "Output Dictionary :\n",
      "\tSmith ==> 13\n",
      "\tAlice ==> 32\n",
      "\tDaneil ==> 21\n",
      "\tSiva ==> 20000\n",
      "\n",
      "1) Print All the records : \n",
      "2) Add New Record : \n",
      "3) Remove exists Record : \n",
      "4) Query Single Record: \n",
      "5) Exit\n"
     ]
    },
    {
     "name": "stdin",
     "output_type": "stream",
     "text": [
      "Enter the Option :  4\n",
      "Enter the Employee Name :  Siva\n"
     ]
    },
    {
     "name": "stdout",
     "output_type": "stream",
     "text": [
      "The Salary of Given Employee : 20000\n",
      "\n",
      "1) Print All the records : \n",
      "2) Add New Record : \n",
      "3) Remove exists Record : \n",
      "4) Query Single Record: \n",
      "5) Exit\n"
     ]
    },
    {
     "name": "stdin",
     "output_type": "stream",
     "text": [
      "Enter the Option :  1\n"
     ]
    },
    {
     "name": "stdout",
     "output_type": "stream",
     "text": [
      "Output Dictionary :\n",
      "\tSmith ==> 13\n",
      "\tAlice ==> 32\n",
      "\tDaneil ==> 21\n",
      "\tSiva ==> 20000\n",
      "\n",
      "1) Print All the records : \n",
      "2) Add New Record : \n",
      "3) Remove exists Record : \n",
      "4) Query Single Record: \n",
      "5) Exit\n"
     ]
    },
    {
     "name": "stdin",
     "output_type": "stream",
     "text": [
      "Enter the Option :  5\n"
     ]
    }
   ],
   "source": [
    "flag = True\n",
    "while flag:\n",
    "    print(\"\\n1) Print All the records : \")\n",
    "    print(\"2) Add New Record : \")\n",
    "    print(\"3) Remove exists Record : \")\n",
    "    print(\"4) Query Single Record: \")\n",
    "    print(\"5) Exit\")\n",
    "    option = eval(input(\"Enter the Option : \"))\n",
    "    if option == 1:\n",
    "        print_dict()\n",
    "    elif option == 2:\n",
    "        add_key()\n",
    "        print_dict()\n",
    "    elif option == 3:\n",
    "        remove_key()\n",
    "        print_dict()\n",
    "    elif option == 4:\n",
    "        query_key()\n",
    "    elif option == 5:\n",
    "        flag = False\n",
    "    else:\n",
    "        print(\"Invalid Option\")"
   ]
  },
  {
   "cell_type": "markdown",
   "id": "cc91a59b",
   "metadata": {},
   "source": [
    "### Questions on Sets-\n",
    "\n",
    "### 1) What is the difference between a set and a frozenset? Create any set and try to use frozenset(setname).\n",
    " - Frozenset are implemented in a way, which doesn't allow mutable objects.\n",
    " - A set contains an unordered collection of unique and immutable objects. The set data type is, as the name implies, a Python implementation of the sets as they are known from mathematic."
   ]
  },
  {
   "cell_type": "code",
   "execution_count": 7,
   "id": "602341f0",
   "metadata": {},
   "outputs": [
    {
     "name": "stdout",
     "output_type": "stream",
     "text": [
      "Type of s : <class 'set'>\n",
      "Type of f : <class 'frozenset'>\n"
     ]
    }
   ],
   "source": [
    "s = {10, 20, 30, 40, 50}\n",
    "f = frozenset(s)\n",
    "print(f\"Type of s : {type(s)}\")\n",
    "print(f\"Type of f : {type(f)}\")"
   ]
  },
  {
   "cell_type": "code",
   "execution_count": 8,
   "id": "2da94bdb",
   "metadata": {},
   "outputs": [
    {
     "name": "stdout",
     "output_type": "stream",
     "text": [
      "Before Adding Element : {50, 20, 40, 10, 30}\n",
      "After Adding Element : {50, 20, 40, 10, 12, 30}\n"
     ]
    }
   ],
   "source": [
    "# we can change set() object but we cannot change frozenset() object\n",
    "print(f\"Before Adding Element : {s}\")\n",
    "s.add(12)\n",
    "print(f\"After Adding Element : {s}\")"
   ]
  },
  {
   "cell_type": "markdown",
   "id": "01a8bf72",
   "metadata": {},
   "source": [
    "### 2) Find the elements in a given set that are not in another set\n",
    "\n",
    "    set1 = {10,20,30,40,50}\n",
    "\n",
    "    set2 = {40,50,60,70,80}\n",
    "\n",
    " **Difference between set1 and set2 is `{10,20,30}`**"
   ]
  },
  {
   "cell_type": "code",
   "execution_count": 9,
   "id": "24e85ec4",
   "metadata": {},
   "outputs": [
    {
     "name": "stdout",
     "output_type": "stream",
     "text": [
      "Set 1 : {50, 20, 40, 10, 30}\n",
      "Set 2 : {80, 50, 70, 40, 60}\n",
      "Difference : {10, 20, 30}\n"
     ]
    }
   ],
   "source": [
    "set1 = {10, 20, 30, 40, 50}\n",
    "set2 = {40, 50, 60, 70, 80}\n",
    "print(f\"Set 1 : {set1}\")\n",
    "print(f\"Set 2 : {set2}\")\n",
    "print(f\"Difference : {set1.difference(set2)}\")"
   ]
  }
 ],
 "metadata": {
  "kernelspec": {
   "display_name": "Python 3 (ipykernel)",
   "language": "python",
   "name": "python3"
  },
  "language_info": {
   "codemirror_mode": {
    "name": "ipython",
    "version": 3
   },
   "file_extension": ".py",
   "mimetype": "text/x-python",
   "name": "python",
   "nbconvert_exporter": "python",
   "pygments_lexer": "ipython3",
   "version": "3.10.0"
  }
 },
 "nbformat": 4,
 "nbformat_minor": 5
}
